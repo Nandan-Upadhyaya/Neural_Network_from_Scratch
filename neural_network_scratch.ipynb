{
 "cells": [
  {
   "cell_type": "code",
   "execution_count": 2,
   "id": "60344e68",
   "metadata": {},
   "outputs": [],
   "source": [
    "# This is a code which demonstrates a simple Neural Network for MNIST Dataset from Scratch without using Tensorflow or Pytorch. Purely using numpy.\n",
    "# I have included the comments everywhere to understand the relationship between the mathematical aspects and the equations involved in the code (These comments were manually written by me for understanding)\n",
    "#Imports\n",
    "import numpy as np\n",
    "from sklearn.datasets import fetch_openml\n",
    "from sklearn.model_selection import train_test_split\n",
    "from sklearn.preprocessing import OneHotEncoder"
   ]
  },
  {
   "cell_type": "code",
   "execution_count": 3,
   "id": "16336b4e",
   "metadata": {},
   "outputs": [],
   "source": [
    "# Fetch the MNIST dataset\n",
    "#return_X_Y = True means it will return the feature matrix, kind of a pixel data and y kinda returns the different digits from 0-9\n",
    "#as_frame = False means it will return it as a numpy arrays rather than pandas dataframes since we are implementing a Neural Network using Numpy.\n",
    "X, y = fetch_openml(\"mnist_784\", version=1, return_X_y=True, as_frame=False)\n",
    "\n",
    "\n"
   ]
  },
  {
   "cell_type": "code",
   "execution_count": 4,
   "id": "542b2111",
   "metadata": {},
   "outputs": [
    {
     "name": "stdout",
     "output_type": "stream",
     "text": [
      "(70000, 784)\n",
      "(70000,)\n"
     ]
    }
   ],
   "source": [
    "print(X.shape) # The Dataset contains 70000 images and each image is of 28 x 28 pixels therefore 28 x 28 = 784 pixels flattened therefore shape (70000, 784)\n",
    "print(y.shape) # There are 70000 labels, one for each image therefore shape (70000,)\n"
   ]
  },
  {
   "cell_type": "code",
   "execution_count": 5,
   "id": "6ce548bf",
   "metadata": {},
   "outputs": [
    {
     "data": {
      "image/png": "[encoded data removed]",
      "text/plain": [
       "<Figure size 640x480 with 1 Axes>"
      ]
     },
     "metadata": {},
     "output_type": "display_data"
    }
   ],
   "source": [
    "# Prints the first image of the dataset\n",
    "import matplotlib.pyplot as plt\n",
    "\n",
    "image = X[0].reshape(28,28)\n",
    "plt.imshow(image, cmap = \"grey\")\n",
    "plt.show()"
   ]
  },
  {
   "cell_type": "code",
   "execution_count": 6,
   "id": "99a21159",
   "metadata": {},
   "outputs": [
    {
     "data": {
      "image/png": "[encoded data removed]",
      "text/plain": [
       "<Figure size 640x480 with 1 Axes>"
      ]
     },
     "metadata": {},
     "output_type": "display_data"
    },
    {
     "data": {
      "image/png": "[encoded data removed]",
      "text/plain": [
       "<Figure size 640x480 with 1 Axes>"
      ]
     },
     "metadata": {},
     "output_type": "display_data"
    },
    {
     "data": {
      "image/png": "[encoded data removed]",
      "text/plain": [
       "<Figure size 640x480 with 1 Axes>"
      ]
     },
     "metadata": {},
     "output_type": "display_data"
    },
    {
     "data": {
      "image/png": "[encoded data removed]",
      "text/plain": [
       "<Figure size 640x480 with 1 Axes>"
      ]
     },
     "metadata": {},
     "output_type": "display_data"
    },
    {
     "data": {
      "image/png": "[encoded data removed]",
      "text/plain": [
       "<Figure size 640x480 with 1 Axes>"
      ]
     },
     "metadata": {},
     "output_type": "display_data"
    }
   ],
   "source": [
    "#Prints the first 5 images of the dataset\n",
    "import matplotlib.pyplot as plt\n",
    "\n",
    "for i in range(5):\n",
    "    image = X[i].reshape(28, 28)\n",
    "    plt.imshow(image, cmap=\"grey\")\n",
    "    plt.axis('off')\n",
    "    plt.show()"
   ]
  },
  {
   "cell_type": "code",
   "execution_count": 7,
   "id": "772140c9",
   "metadata": {},
   "outputs": [],
   "source": [
    "# Normalize images from (0,255) pixel range 0 indicating black and 255 indicating white to [0, 1] range as Neural Networks converge better in this range\n",
    "X = X/255.0\n"
   ]
  },
  {
   "cell_type": "code",
   "execution_count": 8,
   "id": "d16c3af8",
   "metadata": {},
   "outputs": [
    {
     "name": "stdout",
     "output_type": "stream",
     "text": [
      "[0. 0. 0. 0. 0. 0. 0. 0. 0. 0. 0. 0. 0. 0. 0. 0. 0. 0. 0. 0. 0. 0. 0. 0.\n",
      " 0. 0. 0. 0. 0. 0. 0. 0. 0. 0. 0. 0. 0. 0. 0. 0.]\n",
      "0.0\n",
      "1.0\n"
     ]
    }
   ],
   "source": [
    "# This check ensures that the X is normalized [0, 1] range as it is observed the max pixel value is 1 and min pixel value is 0 \n",
    "print(X[50000][:40])\n",
    "print(X.min())\n",
    "print(X.max())"
   ]
  },
  {
   "cell_type": "code",
   "execution_count": 9,
   "id": "71e31cba",
   "metadata": {},
   "outputs": [
    {
     "name": "stdout",
     "output_type": "stream",
     "text": [
      "Dataset y type <class 'str'>\n",
      "Updated y type <class 'numpy.int64'>\n",
      "Dimensions of original y array 1\n",
      "Shape of original array (70000,)\n",
      "Dimensions of updated y array 2\n",
      "Shape of new array (70000, 1)\n",
      "Original label [5]\n",
      "OHE label [0. 0. 0. 0. 0. 1. 0. 0. 0. 0.]\n"
     ]
    }
   ],
   "source": [
    "# One Hot Encoding is to be done since the models dont really work with raw labels therefore it needs to be converted to a OHE Vector as in \n",
    "# for vector y = 5, its OHE representation will be [0,0,0,0,0,1,0,0,0,0]\n",
    "from sklearn.preprocessing import OneHotEncoder\n",
    "print(\"Dataset y type\", type(y[0])) #Type was  string\n",
    "#Since the y i.e, the class labels are in String type so we typecast the string labels to int labels for OHE\n",
    "y = y.astype(int)\n",
    "print(\"Updated y type\", type(y[0])) # Type became int\n",
    "encoder = OneHotEncoder(sparse_output=False)\n",
    "print(\"Dimensions of original y array\", y.ndim)\n",
    "print(\"Shape of original array\", y.shape) # Y is a 1D array (70000,)\n",
    "#As y is a 1D array, it is not possible to do OHE on it directly, therefore we somehow need to convert it to a 2D array\n",
    "#Since the shape of the y is (70000,), its 1D, therefore we can just append a 1 to it simply to make it a 2D array OHE can run on it. Thats what the next line does\n",
    "y = y.reshape(-1, 1)\n",
    "print(\"Dimensions of updated y array\", y.ndim) \n",
    "print(\"Shape of new array\", y.shape)# Now Y is a 2D array (70000,1)\n",
    "encoder = OneHotEncoder(sparse_output=False)\n",
    "y_hot = encoder.fit_transform(y)\n",
    "print(\"Original label\", y[0])  \n",
    "print(\"OHE label\", y_hot[0])\n",
    "\n",
    "\n",
    "\n",
    "\n"
   ]
  },
  {
   "cell_type": "code",
   "execution_count": 10,
   "id": "c96c2d97",
   "metadata": {},
   "outputs": [
    {
     "name": "stdout",
     "output_type": "stream",
     "text": [
      "X train shape (56000, 784)\n",
      "X test shape (14000, 784)\n",
      "y train shape (56000, 10)\n",
      "y test shape (14000, 10)\n"
     ]
    }
   ],
   "source": [
    "# Next we will do the train test split of the dataset. We will perform a 80-20 split of the dataset. 80% of the data will be sent for training and 20% will be sent for testing.\n",
    "from sklearn.model_selection import train_test_split\n",
    "\n",
    "X_train, X_test, y_train, y_test = train_test_split(X , y_hot, test_size=0.2, random_state=42)\n",
    "print(\"X train shape\", X_train.shape)\n",
    "print(\"X test shape\", X_test.shape)\n",
    "print(\"y train shape\", y_train.shape)\n",
    "print(\"y test shape\", y_test.shape)"
   ]
  },
  {
   "cell_type": "code",
   "execution_count": 11,
   "id": "7c5a5b56",
   "metadata": {},
   "outputs": [],
   "source": [
    "#Till now the data preprocessing stage is done, some of the steps to summarize which were done are:\n",
    "# 1. Fetching the MNIST dataset.\n",
    "# 2. Normalizing the pixel values to [0, 1] range.\n",
    "# 3. One Hot Encoding the labels. (Also involved the conversion of labels from string to int + reshaping the labels to 2D array for OHE compatibility)\n",
    "# 4. Splitting the dataset into training and testing sets."
   ]
  },
  {
   "cell_type": "code",
   "execution_count": 12,
   "id": "7126acf1",
   "metadata": {},
   "outputs": [],
   "source": [
    "# This is the architecture of the Neural Network that will be implemented:\n",
    "# 2 Layer Neural Network\n",
    " \n",
    "#        Layer                            Size                                   Activation Function\n",
    "#     Input Layer            784 (28x28 pixels flattened)                                ----\n",
    "#     Hidden Layer                        128                                           ReLU\n",
    "#     Output Layer                         10                                           Softmax\n",
    " "
   ]
  },
  {
   "cell_type": "code",
   "execution_count": 13,
   "id": "a901fa48",
   "metadata": {},
   "outputs": [],
   "source": [
    "#We first define the structure of the NN. As discussed above, the Input Size is 784 (28x 28 pixels flattened), Hidden Layer size is 128 it can be adjusted to any value and output size is 10 (0-9 digits)\n",
    "input_size = 784\n",
    "hidden_size = 128\n",
    "output_size = 10"
   ]
  },
  {
   "cell_type": "code",
   "execution_count": 14,
   "id": "7ac10ebe",
   "metadata": {},
   "outputs": [],
   "source": [
    "# We will define the weights and biases for the network.\n",
    "# Initialization matters a lot in NNs, so we will be using the \"He initialization\" method for the weights.\n",
    "# The formula for He initialization is:\n",
    "# Var(W) = 2 / n_in, where n_in is the number of inputs to the layer.\n",
    "# It is commonly used for ReLU activation functions . Given the rigid nature of ReLU, it is important as it provides kind of a compensation since ReLU nearly zeroes out 50% of the inputs.\n"
   ]
  },
  {
   "cell_type": "code",
   "execution_count": 15,
   "id": "7e4927f7",
   "metadata": {},
   "outputs": [],
   "source": [
    "#Weights and biases from the input layer to the hidden layer\n",
    "W1 = np.random.randn(hidden_size, input_size) * np.sqrt(2 / input_size) # Standard deviation is square root of variance.\n",
    "b1 = np.zeros((hidden_size, 1)) # Let's initialize the bias value of each hidden neuron to 0\n"
   ]
  },
  {
   "cell_type": "code",
   "execution_count": 16,
   "id": "6319ddb5",
   "metadata": {},
   "outputs": [],
   "source": [
    "#Weights and biases from the hidden layer to the output layer\n",
    "W2 = np.random.randn(output_size, hidden_size) * np.sqrt(2/ hidden_size)\n",
    "b2 = np.zeros((output_size,1))"
   ]
  },
  {
   "cell_type": "code",
   "execution_count": 17,
   "id": "99f28f65",
   "metadata": {},
   "outputs": [
    {
     "name": "stdout",
     "output_type": "stream",
     "text": [
      "(128, 784)\n",
      "(128, 1)\n",
      "(10, 128)\n",
      "(10, 1)\n"
     ]
    }
   ],
   "source": [
    "print(W1.shape) #Weights from the input Layer to the hidden Layer but written as (hidden_size, input_size) (128, 784)\n",
    "print(b1.shape) #Biases for 128 hidden neurons (128,1) 1 means it's applied to a single input.\n",
    "print(W2.shape) # Weights from the hidden layer to the output layer but written as (output_size, hidden_size) (10, 128)\n",
    "print(b2.shape) # Biases for 10 output neurons (10,1)\n",
    "\n"
   ]
  },
  {
   "cell_type": "code",
   "execution_count": null,
   "id": "e0a780a6",
   "metadata": {},
   "outputs": [],
   "source": [
    "# Mathematical Definition of ReLU Activation Function:\n",
    "# ReLU is defined as:\n",
    "# ReLU(x) = max(0,x)\n",
    "# ReLU'(x) (Derivative of ReLU) = 1 if x > 0 else 0\n",
    "\n",
    "def relu(Z):\n",
    "    return np.maximum(0,Z)\n",
    "\n",
    "def relu_derivative(Z):\n",
    "    return (Z > 0).astype(float)\n",
    "# The return function of ReLU derivative is exactly how the actual ReLU derivative activation function is defined. Let's understand it with an example:\n",
    "# Supppose Z = [-2, 0, 3], Z > 0 creates a boolean array [False, False, True] now we have to convert it to values like 0 and 1, therefore we use astype (float) which converts the boolean array\n",
    "# to [0.0, 0.0, 1.0] which is exactly the ReLU derivative activation function for the given Z. \n",
    "    \n",
    " "
   ]
  },
  {
   "cell_type": "code",
   "execution_count": 33,
   "id": "262cc0a1",
   "metadata": {},
   "outputs": [
    {
     "name": "stdout",
     "output_type": "stream",
     "text": [
      "Z Shape:  (1, 3)\n",
      "After applying ReLU Activation Function:  [[0 0 3]]\n",
      "After applying ReLU Derivative Activation Function:  [[0. 0. 1.]]\n"
     ]
    }
   ],
   "source": [
    "# ReLU activation function and its derivative function check for random np array.\n",
    "Z = np.array([[-2, 0, 3]])\n",
    "print(\"Z Shape: \", Z.shape)\n",
    "print(\"After applying ReLU Activation Function: \", relu(Z))\n",
    "print(\"After applying ReLU Derivative Activation Function: \", relu_derivative(Z))"
   ]
  },
  {
   "cell_type": "code",
   "execution_count": null,
   "id": "1685a7c0",
   "metadata": {},
   "outputs": [],
   "source": [
    "#Mathematical Definition of Softmax Activation Function:\n",
    "# Softmax is defined as:\n",
    "# Softmax(z(i)) = e ^ (z(i) - max(z)) / summation(e ^ (z(j) - max(z))) for all j\n",
    "\n",
    "#Why SoftMax?\n",
    "# Softmax is commonly used in the output layer of the multi class classification problems as it converts the raw scores into probabilities that sum up to 1.\n",
    "# The subtraction of max(z) is done to prevent overflow issues when computing the exponentials, as it can grow huge for large values of Z. So its incorporated in the formula itself. \n",
    "\n",
    "def softmax(Z):\n",
    "    Z_stable = Z - np.max(Z, axis=0, keepdims=True) # This is the ( z(i) - max(z) ) part of the softmax expression in the numerator, axis = 0 implies we are doing for each row  which means each column is treated as a sample and keepdims = True ensures the output has the same dimeensions as output.\n",
    "    exp_Z = np.exp(Z_stable) # We have raised the expression to the power of e, these two steps comprise the numerator of the expression\n",
    "    softmax_output = exp_Z / np.sum(exp_Z, axis=0, keepdims=True) # This is the entire softmax expression \n",
    "    return softmax_output\n",
    "\n"
   ]
  },
  {
   "cell_type": "code",
   "execution_count": 31,
   "id": "c9cfcb16",
   "metadata": {},
   "outputs": [
    {
     "name": "stdout",
     "output_type": "stream",
     "text": [
      "After applying Softmax Activation Function:  [[0.00637746]\n",
      " [0.04712342]\n",
      " [0.94649912]]\n"
     ]
    }
   ],
   "source": [
    "#Softmax activation function check for random np array.\n",
    "Z = np.array([[-2, 0, 3]]).T\n",
    "print(\"After applying Softmax Activation Function: \", softmax(Z))\n"
   ]
  },
  {
   "cell_type": "code",
   "execution_count": 35,
   "id": "a0461296",
   "metadata": {},
   "outputs": [],
   "source": [
    "# Now we implement the forward pass of the NN\n",
    "# Given the input X, weights W1 and W2, corresponding biases b1 and b2, the forward propagation is defined as follows:\n",
    "# Z1 = W1 * X + b1\n",
    "# A1 = ReLU(Z1)\n",
    "# Z2 - W2 * A1 + b2\n",
    "# A2 = Softmax(Z2)\n",
    "def forward_propagation(X, W1, b1, W2, b2):\n",
    "    Z1 = np.dot(W1, X) + b1\n",
    "    A1 = relu(Z1)\n",
    "    Z2 = np.dot(W2, A1) + b2\n",
    "    A2 = softmax(Z2)\n",
    "    return Z1, A1, Z2, A2"
   ]
  },
  {
   "cell_type": "code",
   "execution_count": null,
   "id": "63d3a0e0",
   "metadata": {},
   "outputs": [],
   "source": [
    "# We define the cross-entropy loss function for the output layer.\n",
    "# The cross-entropy loss function is defined as:\n",
    "# Loss = - summation (i = 1 to C) (y (i)) * log(y'(i)) for all i where y(i) is the true label and y'(i) is the predicted probability by softmax for the sample of a given class i. For more than 1 sample,  we divide it by 'm', where 'm' is the total number of samples, so formula becomes:\n",
    "# Loss = -1/m * summation (j = 1 to m) (i = 1 to C) (y (i)) * log(y'(i)) for all i\n",
    "# If you would manually like to compute, its basically you are considering the only the true labels with value of 1 and multiplying with its corresponding log of predicted probability and summing it up over all examples. \n",
    "\n",
    "def cross_entropy_loss(y_true, y_pred):\n",
    "    m = y_true.shape[0] # Why shape[0] ? Because the losses are computed over the number of samples, and number of samples corresponds to axis = 0, which spans through all the rows.\n",
    "    loss = -1/m * np.sum(y_true * np.log(y_pred + 1e-8)) # We added a small epsilon value of 1e-8 so that we do not run into log 0 and crash training.\n",
    "    return loss\n"
   ]
  },
  {
   "cell_type": "code",
   "execution_count": null,
   "id": "4e7d891c",
   "metadata": {},
   "outputs": [
    {
     "name": "stdout",
     "output_type": "stream",
     "text": [
      "6\n",
      "6\n",
      "1\n",
      "1\n",
      "Cross-Entropy Loss:  1.6094378624341017\n"
     ]
    }
   ],
   "source": [
    "y_true = np.array([[0, 0, 1, 0, 0, 0]])\n",
    "y_pred = np.array([[0.1, 0.8, 0.2, 0.1, 0.1, 0.1]])\n",
    "print(y_true.shape[1])  # General rule is shape[1] gives the number of columns which corresponds to the number of classes\n",
    "print(y_pred.shape[1])\n",
    "print(y_true.shape[0])  # General rule is shape[0] gives the number of rows which corresponds to the number of samples\n",
    "print(y_pred.shape[0])\n",
    "#But Cross-Entropy Loss is computed over the number of samples, therefore we use shape[0] for y_true and y_pred\n",
    "print(\"Cross-Entropy Loss: \", cross_entropy_loss((y_true), (y_pred)))\n"
   ]
  }
 ],
 "metadata": {
  "kernelspec": {
   "display_name": "pytorch",
   "language": "python",
   "name": "python3"
  },
  "language_info": {
   "codemirror_mode": {
    "name": "ipython",
    "version": 3
   },
   "file_extension": ".py",
   "mimetype": "text/x-python",
   "name": "python",
   "nbconvert_exporter": "python",
   "pygments_lexer": "ipython3",
   "version": "3.10.16"
  }
 },
 "nbformat": 4,
 "nbformat_minor": 5
}
